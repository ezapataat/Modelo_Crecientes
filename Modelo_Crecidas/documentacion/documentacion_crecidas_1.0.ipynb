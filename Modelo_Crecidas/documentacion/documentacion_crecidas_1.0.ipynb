{
 "cells": [
  {
   "cell_type": "markdown",
   "metadata": {},
   "source": [
    "## Modelo de Crecidas"
   ]
  },
  {
   "cell_type": "markdown",
   "metadata": {},
   "source": [
    "## 1. Introducción"
   ]
  },
  {
   "cell_type": "markdown",
   "metadata": {},
   "source": [
    "En el Valle de Aburrá predominan los cauces de montaña, caracterizados por altas pendientes y estrechas secciones que hacen que el tiempo al pico de la hidrógrafa durante un evento de lluvia suceda en poco tiempo. Este tipo de eventos representan riesgo para vidas humanas e infraestrucura debido a velocidades altas y al poder de arrastre.\n",
    "\n",
    "El Modelo de Crecidas es desarrollado como una herramienta con base estádistica que permite predecir el nivel máximo en el cauce y su asociación con el riesgos. El pronostico esta basado principalmente en el acumulado de lluvia registrado en tiempo real por el SIATA, el principio es aprovechar la relacion existente entre la magnitud e intensidad del evento con la respuesta de nivel obtenida.\n",
    "\n",
    "En un modelo estadístico se requiere de multiples observaciones del fenómeno. Entre mas evidencia historica se considere mayor acertibidad en los pronosticos, por esto es clave la identificación de eventos para cada estación.\n",
    "\n",
    "Los datos utilizados corresponden a series de precipitación y nivel en el mismo periodo de tiempo. Las estaciones pluviometricas tienen resolución temporal de un minuto en la mayoria de los registros y de cinco minutos para el periodo previo al cambio de tecnología. Por su parte las series de nivel tienen resolución de un minuto en todo el periodo de registro. Las cuencas consideradas para el modelo deben contar con estación de nivel sobre su cauce principal y con estaciones pluviometricas asociadas, preferiblemente contenidas al interior de la cuenca."
   ]
  },
  {
   "cell_type": "markdown",
   "metadata": {},
   "source": [
    "## 2. Esquema del modelo"
   ]
  },
  {
   "cell_type": "markdown",
   "metadata": {},
   "source": [
    "En Modelo de Crecidas se compone de dos versiones. En el primero se considera unicamente el acumulado del evento y en el segundo se consideran además las condiciones de humedad antecedente o memoria de la cuenca.   "
   ]
  },
  {
   "cell_type": "markdown",
   "metadata": {},
   "source": [
    "### Modelo 1. Acumulados de precipitación durante el evento"
   ]
  },
  {
   "cell_type": "markdown",
   "metadata": {},
   "source": [
    "Los niveles máximos registrados por los sensores de nivel son relacionados con el acumulado de lluvia de periodos de tiempo previos al nivel pico. \n",
    "\n",
    "El análisis consiste en trasladarse hacia atras del pico con un paso de tiempo de cinco minutos, en cada paso se calcula el acumulado e intensidad máxima precedente y se relaciona con el respectivo nivel pico observado en la estación.\n",
    "\n",
    "![title](esquema_rezago.jpg)\n",
    "\n",
    "En el primer esquema del modelo estadístico se considera como unica entrada el acumulado de precipitación registrado en los últimos 120 minutos. A continuación se presentan las disposiciones del Modelo 1:\n",
    "\n",
    "$1$. Determinar el máximo acumulado de precipitación que ha sido registrado en las estaciones de la cuenca en los últimos 120 minutos. Este cálculo se puede actualizar cada minuto dada la resolución temporal de las estaciones pluviograficas del SIATA.\n",
    "\n",
    "$2$. Los eventos seleccionados en toda la historia de la estación de nivel proporcionan una base de datos con los acumulados en cada tiempo de rezago. Empleando dicha historia se define para cada tiempo el intervalo en el que se encuentra el acumulado registrado en tiempo real.\n",
    "\n",
    "$3$. Identificado el intervalo de precipitación acumulada se extraen los niveles asociados y se calculan los percentiles 10, 25, 40, 50, 75 y 90 brindando un conjunto de posibles niveles asociados a una incertidumbre.\n",
    "\n",
    "$4$. El procedimiento se aplica para cada tiempo de predicción deseado, para cada uno se obtiene un conjunto de posibles niveles.\n",
    "\n",
    "$5$. Se repiten los pasos por cada actualizacion del acumulado, por la resolución de las estaciones se espera que sea cada minuto si la comunicación es adecuada."
   ]
  },
  {
   "cell_type": "markdown",
   "metadata": {},
   "source": [
    "### Modelo 2 . Memoria de la cuenca"
   ]
  },
  {
   "cell_type": "markdown",
   "metadata": {},
   "source": [
    "Con el objetivo de disminuir la dispersión en el pronostico de nivel máximo se incluyen en el analisis factores físicos asociados al fenómeno. Considerando que las condiciones de humedad antecedente (memoria de la cuenca) y distribución espacio-temporal de la precipitación son factores fundamentales en la respuesta del cauce se incorpora en el análisis la humedad antecedente de cada evento.\n",
    "\n",
    "En el SIATA no se cuenta aun con red de humedad del suelo estable. Como un acercamiento a la humedad antecedente se considera el acumulado de precipitación para cierta cantidad de horas previas al inicio del evento. La cantidad de horas es definida para cada cuenca en función de su tamaño. \n",
    "\n",
    "La humedad antecedente se implementa como un paso previo a la clasificación de la precipitación acumulada durante el evento.\n",
    "\n",
    "A continuación se presentan las disposiciones del Modelo 2. \n",
    "\n",
    "$1.$ Determinar el máximo acumulado de precipitación que ha sido registrado en las estaciones de la cuenca en los últimos 120 minutos. Este cálculo se puede actualizar cada minuto dada la resolución temporal de las estaciones pluviograficas del SIATA.\n",
    "\n",
    "$2.$ Determinar el acumulado de precipitación en la cuenca para la cantidad de horas establecida como humedad antecedente a partir del inicio del evento. Este valor es constante durante el transcurso del evento.\n",
    "\n",
    "$3.$ De la historia de eventos se define para cada tiempo el intervalo en el que se encuentra la humedad antecedente.\n",
    "\n",
    "$4.$ Identificado el intervalo de humedad antecedente se extraen los eventos asociados a esté. Luego se realiza el filtro por acumulado del evento.\n",
    "\n",
    "$5.$ El conjunto de eventos extraido hasta aqui es filtrado de acuerdo al acumulado del evento. Luego se calculan los percentiles 10, 25, 40, 50, 75 y 90 brindando un conjunto de posibles niveles asociados a una incertidumbre.\n",
    "\n",
    "$6.$ El procedimiento se aplica para cada tiempo de predicción deseado, para cada uno se obtiene un conjunto de posibles niveles.\n",
    "\n",
    "$7.$ Se repiten los pasos por cada actualizacion del acumulado, por la resolución de las estaciones se espera que sea cada minuto si la comunicación es adecuada.\n",
    "\n",
    "Con la metodología anterior se han filtrado los eventos de acuerdo a su humedad antecedente y al acumulado del evento, de esta manera se disminuye la dispersión y se puede obtener un rango mas cerrado de posibles niveles para cada tiempo de predicción.\n",
    "\n",
    "Este modelo esta ligado a la cantidad de eventos que contenga la base de datos, ya que es posible que la combinación de valores de entrada determinen un número reducido de eventos luego de filtrarlos, disminuyendo la confiabilidad estadística del resultado. Por tal motivo la base de datos de eventos debe ser actualizada constantemente para que el espacio muestral sea cada vez mas confiable."
   ]
  },
  {
   "cell_type": "markdown",
   "metadata": {
    "collapsed": true
   },
   "source": [
    "## 3. Información utilizada"
   ]
  },
  {
   "cell_type": "markdown",
   "metadata": {},
   "source": [
    "Para la ejecución de ambas versiones del modelo se requiere información de precipitación en el evento ($120min$ atras) y acumulado de lluvia antecedente ($3días$ atras), además del nivel máximo registrado. Esta información es almacenada en una base de datos y utilizada en el modelo operacional como regla de pronostico.\n",
    "\n",
    "La información utilizada en el modelo es registrada por el Sistema de Alerta Temprana de Medellín y el Valle de Aburrá (SIATA) a través de las redes de nivel y pluviometricas, las cuales operan en tiempo real con resolución temporal de $1min$."
   ]
  },
  {
   "cell_type": "markdown",
   "metadata": {},
   "source": [
    "### 3.1 Niveles"
   ]
  },
  {
   "cell_type": "markdown",
   "metadata": {
    "collapsed": true
   },
   "source": [
    "En las cuencas donde se aplica el modelo de crecidas se cuenta con un sensor de nivel. De la serie historica se extraen los niveles máximos (nivel pico de las hidrografas de respuesta) para componer la base de datos de eventos. \n",
    "\n",
    "Los niveles máximos son hallados con una metodología de doble gradiente que se aplica sobre la serie total. Debido a la resolución temporal tan fina es necesario identificar los máximos con la serie suavizada para eliminar el ruido de la serie original.\n",
    "\n",
    "A continuación se presentan algunas gráficas que resumen el comportamiento de los máximos en cada una de las cuencas.\n",
    "\n",
    "Histograma de niveles máximos en la cuenca de la quebrada Altavista, Comuna 16. Belén, occidente de Medellín. Gran parte de los eventos representan respuestas de magnitud baja, el objetivo de los pronosticos de crecida se concentra en los eventos de magnitud media y alta, que aunque ocurren con menor frecuencia son los que generan afectaciones importantes. \n",
    "![title](hist_niveles.png)\n",
    "\n",
    "Ciclo anual de niveles máximos en la cuenca de la quebrada Altavista, Comuna 16. Belén, occidente de Medellín. Los eventos de magnitud baja ocurren con igual frecuencia en todo el año, por su parte los eventos de magnitud media y alta presentan mayor frecuencia en los meses de temporada de lluvia (Marzo-Abril-Mayo) y (Septiembre-Octubre-Noviembre). \n",
    "![title](ciclo_anual.png)\n",
    "\n",
    "Ciclo horario de niveles máximos en la cuenca de la quebrada Altavista, Comuna 16. Belén, occidente de Medellín. Los eventos de magnitud alta ocurren con mayor frecuencia en la madrugada ($1am$ - $4am$) y en la tarde ($3pm$ - $6pm$). Este comportamiento esta ligado a la formación de sistemas de lluvia convectivos que en el Valle de Aburrá generan lluvia de alta intensidad. \n",
    "![title](ciclo_horario.png)"
   ]
  },
  {
   "cell_type": "markdown",
   "metadata": {},
   "source": [
    "### 3.2 Precipitación"
   ]
  },
  {
   "cell_type": "markdown",
   "metadata": {},
   "source": [
    "En las cuencas donde se aplica el modelo de crecidas se deben asociar estaciones pluviometricas que representen el comportamiento de la lluvia, a mayor cantidad de estaciones mejor representación. La ubicación de las estaciones pluviometricas debe ser preferiblemente al interior de la cuenca aunque no es estrictamente necesario.\n",
    "\n",
    "La totalidad de cuencas consideradas en el modelo de crecidas contienen estaciones pluviometricas. Para los eventos máximos identificados en la serie de nivel se calculan los acumulados de lluvia correspondientes a $120min$ y $3días$ antecedentes. Esta información complementa la base datos para eventos máximos. \n",
    "\n",
    "Los acumulados son hallados desde la base de datos SIATA y se aplican filtros de calidad para eliminar registros anómalos que puedan alterar los acumulados finales.\n",
    "\n",
    "A continuación se presentan algunas gráficas que resumen el comportamiento de los acumulados en cada una de las cuencas.\n",
    "\n",
    "Acumulado del evento ($120min$) $vs$ acumulado antecedente ($3días$) tomado como memoria de la cuenca. La grafica corresponde a la cuenca de la quebrada Altavista, Comuna 16. Belén, occidente de Medellín.\n",
    "\n",
    "Esta grafica relaciona la magnitud del evento (escala de color) con la combinación de acumulados necesarios para su ocurrencia. Se observa que los eventos medios y altos se explican por la humedad antecedente, por el acumulado del evento o por una combinación de ambos. Esta información puede ser utilizada para evaluar la torrencialidad de las cuencas y definir umbrales de precipitación para la generación de niveles de riesgo dadas unas condiciones de humedad antecedente.\n",
    "![title](memoria.png)\n",
    "\n",
    "Acumulado del evento ($120min$) $vs$ intensidad del evento. La grafica corresponde a la cuenca de la quebrada Altavista, Comuna 16. Belén, occidente de Medellín.\n",
    "\n",
    "Esta grafica relaciona la magnitud (escala de color) con el acumulado e intensidad del evento. Se observa que la relación es directamente proporcional y que los eventos de magnitud media y alta estan relacionados con valores umbrales en ambos ejes. Este comportamiento puede ser empleado posteriormente para complementar el modelo de crecidas.\n",
    "![title](evento.png)\n"
   ]
  },
  {
   "cell_type": "markdown",
   "metadata": {},
   "source": [
    "## 4. Cuencas del modelo"
   ]
  },
  {
   "cell_type": "markdown",
   "metadata": {},
   "source": [
    "El Modelo de Crecidas esta operativo para $17$ cuencas del Valle de Aburrá en las cuales se han identificado la cantidad de eventos necesarios para garantizar representatibidad estadística. \n",
    "\n",
    "Las cuencas son de distintos tamaños, formas y caracteristicas goemorfológicas. En este sentido se piensan desarrollar relaciones posteriores que complementen la base física del Modelo de Crecidas. Las cuencas consideradas hasta ahora son las siguientes:\n"
   ]
  },
  {
   "cell_type": "code",
   "execution_count": 57,
   "metadata": {},
   "outputs": [
    {
     "data": {
      "text/html": [
       "<div>\n",
       "<style>\n",
       "    .dataframe thead tr:only-child th {\n",
       "        text-align: right;\n",
       "    }\n",
       "\n",
       "    .dataframe thead th {\n",
       "        text-align: left;\n",
       "    }\n",
       "\n",
       "    .dataframe tbody tr th {\n",
       "        vertical-align: top;\n",
       "    }\n",
       "</style>\n",
       "<table border=\"1\" class=\"dataframe\">\n",
       "  <thead>\n",
       "    <tr style=\"text-align: right;\">\n",
       "      <th></th>\n",
       "      <th>Cuenca</th>\n",
       "      <th>Municipio</th>\n",
       "      <th>Area</th>\n",
       "      <th>Pendiente media</th>\n",
       "    </tr>\n",
       "  </thead>\n",
       "  <tbody>\n",
       "    <tr>\n",
       "      <th>106</th>\n",
       "      <td>Río Medellín - Tres Aguas</td>\n",
       "      <td>Caldas</td>\n",
       "      <td>96.48</td>\n",
       "      <td>48.65</td>\n",
       "    </tr>\n",
       "    <tr>\n",
       "      <th>108</th>\n",
       "      <td>Q. Doña María - Santa rita</td>\n",
       "      <td>San Antonio de Prado</td>\n",
       "      <td>41.97</td>\n",
       "      <td>38.02</td>\n",
       "    </tr>\n",
       "    <tr>\n",
       "      <th>90</th>\n",
       "      <td>Q. Doña María - El Encanto</td>\n",
       "      <td>San Antonio de Prado</td>\n",
       "      <td>41.89</td>\n",
       "      <td>43.71</td>\n",
       "    </tr>\n",
       "    <tr>\n",
       "      <th>182</th>\n",
       "      <td>Q. Santa Elena</td>\n",
       "      <td>Medellín</td>\n",
       "      <td>35.66</td>\n",
       "      <td>31.47</td>\n",
       "    </tr>\n",
       "    <tr>\n",
       "      <th>115</th>\n",
       "      <td>Q. La Ayura</td>\n",
       "      <td>Envigado</td>\n",
       "      <td>34.99</td>\n",
       "      <td>35.72</td>\n",
       "    </tr>\n",
       "    <tr>\n",
       "      <th>169</th>\n",
       "      <td>Río Medellín - La Clara</td>\n",
       "      <td>Caldas</td>\n",
       "      <td>31.89</td>\n",
       "      <td>48.83</td>\n",
       "    </tr>\n",
       "    <tr>\n",
       "      <th>155</th>\n",
       "      <td>Q. El Hato</td>\n",
       "      <td>Bello</td>\n",
       "      <td>28.35</td>\n",
       "      <td>31.72</td>\n",
       "    </tr>\n",
       "    <tr>\n",
       "      <th>116</th>\n",
       "      <td>Q. La Picacha</td>\n",
       "      <td>Medellín</td>\n",
       "      <td>22.85</td>\n",
       "      <td>26.02</td>\n",
       "    </tr>\n",
       "    <tr>\n",
       "      <th>101</th>\n",
       "      <td>Q. La Presidenta</td>\n",
       "      <td>Medellín</td>\n",
       "      <td>9.05</td>\n",
       "      <td>35.63</td>\n",
       "    </tr>\n",
       "    <tr>\n",
       "      <th>92</th>\n",
       "      <td>Q. Altavista</td>\n",
       "      <td>Medellín</td>\n",
       "      <td>8.52</td>\n",
       "      <td>41.87</td>\n",
       "    </tr>\n",
       "    <tr>\n",
       "      <th>109</th>\n",
       "      <td>Q. La Doctora</td>\n",
       "      <td>Sabaneta</td>\n",
       "      <td>8.32</td>\n",
       "      <td>40.02</td>\n",
       "    </tr>\n",
       "    <tr>\n",
       "      <th>152</th>\n",
       "      <td>Q. Ana Díaz</td>\n",
       "      <td>Medellín</td>\n",
       "      <td>8.26</td>\n",
       "      <td>42.05</td>\n",
       "    </tr>\n",
       "    <tr>\n",
       "      <th>166</th>\n",
       "      <td>Q. El Chocho</td>\n",
       "      <td>Medellín</td>\n",
       "      <td>4.94</td>\n",
       "      <td>44.78</td>\n",
       "    </tr>\n",
       "    <tr>\n",
       "      <th>96</th>\n",
       "      <td>Q. La Goméz</td>\n",
       "      <td>Medellín</td>\n",
       "      <td>2.7</td>\n",
       "      <td>25.75</td>\n",
       "    </tr>\n",
       "    <tr>\n",
       "      <th>134</th>\n",
       "      <td>Q. La Madera</td>\n",
       "      <td>Bello</td>\n",
       "      <td>1.61</td>\n",
       "      <td>20.95</td>\n",
       "    </tr>\n",
       "    <tr>\n",
       "      <th>104</th>\n",
       "      <td>Q. La Zuñiga</td>\n",
       "      <td>Envigado</td>\n",
       "      <td>1.5</td>\n",
       "      <td>12.11</td>\n",
       "    </tr>\n",
       "    <tr>\n",
       "      <th>161</th>\n",
       "      <td>Q. La Chocha</td>\n",
       "      <td>La Estrella</td>\n",
       "      <td>NaN</td>\n",
       "      <td>NaN</td>\n",
       "    </tr>\n",
       "  </tbody>\n",
       "</table>\n",
       "</div>"
      ],
      "text/plain": [
       "                         Cuenca             Municipio   Area Pendiente media\n",
       "106   Río Medellín - Tres Aguas                Caldas  96.48           48.65\n",
       "108  Q. Doña María - Santa rita  San Antonio de Prado  41.97           38.02\n",
       "90   Q. Doña María - El Encanto  San Antonio de Prado  41.89           43.71\n",
       "182              Q. Santa Elena              Medellín  35.66           31.47\n",
       "115                 Q. La Ayura              Envigado  34.99           35.72\n",
       "169     Río Medellín - La Clara                Caldas  31.89           48.83\n",
       "155                  Q. El Hato                 Bello  28.35           31.72\n",
       "116               Q. La Picacha              Medellín  22.85           26.02\n",
       "101            Q. La Presidenta              Medellín   9.05           35.63\n",
       "92                 Q. Altavista              Medellín   8.52           41.87\n",
       "109               Q. La Doctora              Sabaneta   8.32           40.02\n",
       "152                 Q. Ana Díaz              Medellín   8.26           42.05\n",
       "166                Q. El Chocho              Medellín   4.94           44.78\n",
       "96                  Q. La Goméz              Medellín    2.7           25.75\n",
       "134                Q. La Madera                 Bello   1.61           20.95\n",
       "104                Q. La Zuñiga              Envigado    1.5           12.11\n",
       "161                Q. La Chocha           La Estrella    NaN             NaN"
      ]
     },
     "execution_count": 57,
     "metadata": {},
     "output_type": "execute_result"
    }
   ],
   "source": [
    "import numpy as np\n",
    "\n",
    "nivel = [92,106,108,115,96,101,116,134,182,109,155,161,166,169,152,104,90]\n",
    "cuenca = ['Q. Altavista','Río Medellín - Tres Aguas','Q. Doña María - Santa rita','Q. La Ayura','Q. La Goméz',\n",
    "         'Q. La Presidenta','Q. La Picacha','Q. La Madera','Q. Santa Elena','Q. La Doctora','Q. El Hato',\n",
    "         'Q. La Chocha','Q. El Chocho','Río Medellín - La Clara','Q. Ana Díaz','Q. La Zuñiga',\n",
    "          'Q. Doña María - El Encanto']\n",
    "municipios = ['Medellín','Caldas','San Antonio de Prado','Envigado','Medellín','Medellín','Medellín','Bello',\n",
    "             'Medellín','Sabaneta','Bello','La Estrella','Medellín','Caldas','Medellín','Envigado'\n",
    "              ,'San Antonio de Prado']\n",
    "areas = [8.52, 96.48, 41.97, 34.99, 2.70, 9.05, 22.85, 1.61, 35.66, 8.32, 28.35, np.nan, 4.94, 31.89, 8.26,\n",
    "         1.50, 41.89]\n",
    "pendiente_media = [41.87, 48.65, 38.02, 35.72 ,25.75, 35.63, 26.02, 20.95, 31.47, 40.02, 31.72, np.nan, 44.78,\n",
    "                   48.83, 42.05, 12.11, 43.71]\n",
    "\n",
    "import pandas as pd\n",
    "df = pd.DataFrame(index=nivel,columns = ['Cuenca','Municipio','Area','Pendiente media'])\n",
    "\n",
    "df.loc[nivel,'Area'] = areas\n",
    "df.loc[nivel,'Cuenca'] = cuenca\n",
    "df.loc[nivel,'Municipio'] = municipios\n",
    "df.loc[nivel,'Pendiente media'] = pendiente_media\n",
    "\n",
    "df.sort_values('Area',ascending=False)"
   ]
  },
  {
   "cell_type": "markdown",
   "metadata": {},
   "source": [
    "La idea es lograr la mayor cobertura de cuencas posible, en el momento se tienen además otras estaciones para incluir al modelo, se requiere aumentar la historia de eventos para que sea representativo.\n",
    "\n",
    "En el siguiente mapa se muestra la cobertura actual de las cuencas consideradas y su distribución en el Valle de Aburrá\n",
    "![title](cuencas.png)"
   ]
  },
  {
   "cell_type": "markdown",
   "metadata": {},
   "source": [
    "## 5. Modelo operacional"
   ]
  },
  {
   "cell_type": "markdown",
   "metadata": {},
   "source": [
    "El Modelo de Crecidas se ejecuta operacionalmente cada $2$ minutos para garantizar entrada de registros actualizados de precipitción y nivel. El resultado para pronostico de nivel es presentado en graficas y relacionado con los niveles de alerta medidos en campo.\n",
    "\n",
    "Los niveles de alerta son referencias tomadas en campo para categorizar el riesgo ante el aumento de niveles en el cauce. Con los niveles de alerta se identifican estructuras que se ven comprometidas, viviendas, vias, entregas de alcantarillado, etc.\n",
    "Las categorias de alerta son: nivel de atención, nivel alerte moderado, compromiso de estructuras y compromiso de vidas humanas.\n",
    "\n",
    "A continuación se presentan ejemplos de los resultados del Modelo de Crecidas, niveles pronosticados asociados a una incertidumbre y su relación con los niveles de alerta. \n",
    "\n",
    "Estación 101 cuenca Q. La Presidenta\n",
    "\n",
    "![title](N101.png)\n",
    "\n",
    "Estación 101 cuenca Q. La Presidenta\n",
    "\n",
    "![title](N101_2.png)\n",
    "\n",
    "Estación 106 cuenca Río Medellín - Tres Aguas\n",
    "\n",
    "![title](N106.png)\n",
    "\n",
    "Estación 108 cuenca Q. Santa Rita\n",
    "\n",
    "![title](N108.png)\n",
    "\n",
    "Estación 115 cuenca Q. La Ayura\n",
    "\n",
    "![title](N115.png)\n",
    "\n",
    "Estación 134 cuenca Q. La Madera\n",
    "\n",
    "![title](N134.png)"
   ]
  },
  {
   "cell_type": "code",
   "execution_count": 56,
   "metadata": {},
   "outputs": [
    {
     "data": {
      "text/html": [
       "<script>\n",
       "code_show=true;\n",
       "function code_toggle() {\n",
       "if (code_show){\n",
       "$('div.input').hide();\n",
       "} else {\n",
       "$('div.input').show();\n",
       "}\n",
       "code_show = !code_show\n",
       "}\n",
       "$( document ).ready(code_toggle);\n",
       "</script>\n",
       "<form action=\"javascript:code_toggle()\"><input type=\"submit\" value=\"Click here to toggle on/off the raw code.\"></form>"
      ],
      "text/plain": [
       "<IPython.core.display.HTML object>"
      ]
     },
     "execution_count": 56,
     "metadata": {},
     "output_type": "execute_result"
    }
   ],
   "source": [
    "from IPython.display import HTML\n",
    "\n",
    "HTML('''<script>\n",
    "code_show=true;\n",
    "function code_toggle() {\n",
    "if (code_show){\n",
    "$('div.input').hide();\n",
    "} else {\n",
    "$('div.input').show();\n",
    "}\n",
    "code_show = !code_show\n",
    "}\n",
    "$( document ).ready(code_toggle);\n",
    "</script>\n",
    "<form action=\"javascript:code_toggle()\"><input type=\"submit\" value=\"Click here to toggle on/off the raw code.\"></form>''')"
   ]
  },
  {
   "cell_type": "markdown",
   "metadata": {
    "collapsed": true
   },
   "source": [
    "### 5.1 Actualización de eventos"
   ]
  },
  {
   "cell_type": "markdown",
   "metadata": {
    "collapsed": true
   },
   "source": [
    "El Modelo de Crecidas operacional se ejecuta tomando como base las reglas de pronostico generadas con los eventos historicos. Dichas reglas deben ser actualizadas con los eventos nuevos para aumentar la historia y por consiguiente mejorar la representativa estadistica.\n",
    "\n",
    "Para actualizar de manera automatica los eventos se crean los scripts $actualizar1$ para cuencas existentes y $actualizar3$ para cuencas nuevas que se agregan desde cero al modelo."
   ]
  },
  {
   "cell_type": "code",
   "execution_count": null,
   "metadata": {
    "collapsed": true
   },
   "outputs": [],
   "source": []
  }
 ],
 "metadata": {
  "kernelspec": {
   "display_name": "Python 2",
   "language": "python",
   "name": "python2"
  },
  "language_info": {
   "codemirror_mode": {
    "name": "ipython",
    "version": 2
   },
   "file_extension": ".py",
   "mimetype": "text/x-python",
   "name": "python",
   "nbconvert_exporter": "python",
   "pygments_lexer": "ipython2",
   "version": "2.7.6"
  }
 },
 "nbformat": 4,
 "nbformat_minor": 2
}
