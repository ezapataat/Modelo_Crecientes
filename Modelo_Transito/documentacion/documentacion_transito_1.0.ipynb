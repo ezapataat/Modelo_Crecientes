{
 "cells": [
  {
   "cell_type": "markdown",
   "metadata": {},
   "source": [
    "## Modelo de transito de crecidas"
   ]
  },
  {
   "cell_type": "markdown",
   "metadata": {},
   "source": [
    "## 1. Introducción"
   ]
  },
  {
   "cell_type": "markdown",
   "metadata": {},
   "source": [
    "Cuando se presenta un evento de lluvia, sobre el cauce principal de la cuenca se genera una creciente de respuesta. Las crecientes se reflejan en hidrógrafas, las cuales se componen de ascenso, pico y recesión. El efecto de la creciente sobre el cauce es una traslación aguas abajo, conocido como transito de crecidas.\n",
    "\n",
    "La velocidad a la que se traslada la crecida depende de la pendiente del cuace, la cobertura del lecho, la magnitud del evento y en general de los párametros determinantes de la resistencia al flujo. \n",
    "\n",
    "El transito puede ser entendido como el movimiento longitudinal de la onda de crecida. El paso de la creciente entre dos puntos sobre el cauce genera un diferencial de tiempo que puede ser aprovechado para pronosticar niveles en el corto plazo.\n",
    "\n",
    "Considerando que el SIATA cuenta con estaciones que se encuentran ubicadas sobre el mismo cauce se desarrola un modelo estadístico para determinar en tiempo real el prónostico de nivel máximo en las estaciones aguas abajo de acuerdo a los eventos historicos. Inicialmente se exploran las estaciones de nivel ubicadas a lo largo del Río Medellín, de sur a norte (sentido del flujo), 106. Tres Aguas, 179. La Inmaculada, 91. Estación Sabaneta, 94. Aguacatala, 93. Puente La 33, 99. Aula Ambiental y 140. Puente Fundadores.\n",
    "\n",
    "El nivel maximo probable en una estación se calcula dado el máximo nivel de la estación aguas arriba mas cercana, los parámetros que se pueden estimar son nivel máximo y tiempo en que ocurriría (tiempo de viaje).\n",
    "\n",
    "En este ejemplo se presentan las hidrografas de crecida en dos estaciones ubicadas sobre el Río Medellín 94. Aguacatala (aguas arriba) y 93. Puente La 33 (aguas abajo).\n",
    "\n",
    "![title](nivel_transito.png)"
   ]
  },
  {
   "cell_type": "markdown",
   "metadata": {},
   "source": [
    "## 2. Esquema del modelo"
   ]
  },
  {
   "cell_type": "markdown",
   "metadata": {},
   "source": [
    "En Modelo de Transito se basa en reglas de pronostico elaboradas a partir de registros historicos de crecientes. Las relaciones entre nivel de entrada y nivel de salida se realiza por pares entre estaciones consecutivas. \n",
    "\n",
    "Las variables pronosticadas son nivel aguas abajo y tiempo de viaje (tiempo que debe trascurrir para que se presente la creciente aguas abajo). Ambas variables estan asociadas a una incertidumbre.\n",
    "\n",
    "![title](esquema_transito.png)"
   ]
  },
  {
   "cell_type": "markdown",
   "metadata": {
    "collapsed": true
   },
   "source": [
    "## 3. Información utilizada"
   ]
  },
  {
   "cell_type": "markdown",
   "metadata": {},
   "source": [
    "Para la ejecución del Modelo de Transito se requiere información de niveles máximos de los eventos identificados en la historia. Esta información es almacenada en una base de datos y utilizada en el modelo operacional como regla de pronostico.\n",
    "\n",
    "La información utilizada en el modelo es registrada por el Sistema de Alerta Temprana de Medellín y el Valle de Aburrá (SIATA) a través de las red de nivel, la cual opera en tiempo real con resolución temporal de $1min$."
   ]
  },
  {
   "cell_type": "markdown",
   "metadata": {},
   "source": [
    "### 3.1 Niveles"
   ]
  },
  {
   "cell_type": "markdown",
   "metadata": {},
   "source": [
    "En las estaciones donde se aplica el modelo de transito se cuenta con un sensor de nivel. De la serie historica se extraen los niveles máximos (nivel pico de las hidrografas de respuesta) para componer la base de datos de eventos. \n",
    "\n",
    "Los niveles máximos son hallados con una metodología de doble gradiente que se aplica sobre la serie total. Debido a la resolución temporal tan fina es necesario identificar los máximos con la serie suavizada para eliminar el ruido de la serie original.\n",
    "\n",
    "A continuación se presentan algunas gráficas que resumen el comportamiento de los máximos en cada una de las cuencas.\n",
    "\n",
    "Histograma de niveles máximos en la estación Aula Ambiental sobre el Río Medellín. Gran parte de los eventos representan respuestas de magnitud baja, el objetivo de los pronosticos de crecida se concentra en los eventos de magnitud media y alta, que aunque ocurren con menor frecuencia son los que generan afectaciones importantes.\n",
    "\n",
    "![title](hist_niveles_aula.png)\n",
    "\n",
    "Ciclo horario de niveles máximos en la estación Aula Ambiental sobre el Río Medellín. Los eventos de magnitud alta ocurren con mayor frecuencia en la madrugada ( 1am  -  4am ) y en la tarde ( 3pm  -  6pm ), siendo mucho mas frecuentes los de la tarde. Este comportamiento esta ligado a la formación de sistemas de lluvia convectivos que en el Valle de Aburrá generan lluvia de alta intensidad.\n",
    "\n",
    "![title](ciclo_horario_aula.png)\n"
   ]
  },
  {
   "cell_type": "markdown",
   "metadata": {},
   "source": [
    "## 4. Estaciones del modelo"
   ]
  },
  {
   "cell_type": "markdown",
   "metadata": {},
   "source": [
    "El Modelo de Transito esta operativo para $6$ estaciones ubicadas sobre el Río Medellín. \n",
    "\n",
    "Las tramos entre estaciones son de distintos coberturas, pendientes, alineación en planta y longitudes. En este sentido se piensan desarrollar relaciones posteriores que complementen la base física del Modelo de Transito. Las estaciones consideradas hasta ahora son las siguientes:"
   ]
  },
  {
   "cell_type": "code",
   "execution_count": 15,
   "metadata": {},
   "outputs": [
    {
     "data": {
      "text/html": [
       "<div>\n",
       "<style>\n",
       "    .dataframe thead tr:only-child th {\n",
       "        text-align: right;\n",
       "    }\n",
       "\n",
       "    .dataframe thead th {\n",
       "        text-align: left;\n",
       "    }\n",
       "\n",
       "    .dataframe tbody tr th {\n",
       "        vertical-align: top;\n",
       "    }\n",
       "</style>\n",
       "<table border=\"1\" class=\"dataframe\">\n",
       "  <thead>\n",
       "    <tr style=\"text-align: right;\">\n",
       "      <th></th>\n",
       "      <th>Cuenca</th>\n",
       "      <th>Municipio</th>\n",
       "      <th>Area</th>\n",
       "      <th>Pendiente media</th>\n",
       "    </tr>\n",
       "  </thead>\n",
       "  <tbody>\n",
       "    <tr>\n",
       "      <th>106</th>\n",
       "      <td>Río Medellín - Tres Aguas</td>\n",
       "      <td>Caldas</td>\n",
       "      <td>96.48</td>\n",
       "      <td>48.65</td>\n",
       "    </tr>\n",
       "    <tr>\n",
       "      <th>179</th>\n",
       "      <td>Río Medellín - La Inmaculada</td>\n",
       "      <td>Caldas</td>\n",
       "      <td>123.83</td>\n",
       "      <td>40.29</td>\n",
       "    </tr>\n",
       "    <tr>\n",
       "      <th>91</th>\n",
       "      <td>Río Medellín - Metro Sabaneta</td>\n",
       "      <td>Sabaneta</td>\n",
       "      <td>142.86</td>\n",
       "      <td>39.44</td>\n",
       "    </tr>\n",
       "    <tr>\n",
       "      <th>94</th>\n",
       "      <td>Río Medellín - Aguacatala</td>\n",
       "      <td>Medellín</td>\n",
       "      <td>296.8</td>\n",
       "      <td>37.07</td>\n",
       "    </tr>\n",
       "    <tr>\n",
       "      <th>93</th>\n",
       "      <td>Río Medellín - Puente La 33</td>\n",
       "      <td>Medellín</td>\n",
       "      <td>356.57</td>\n",
       "      <td>35.61</td>\n",
       "    </tr>\n",
       "    <tr>\n",
       "      <th>99</th>\n",
       "      <td>Río Medellín - Aula Ambiental</td>\n",
       "      <td>Medellín</td>\n",
       "      <td>391.95</td>\n",
       "      <td>34.6</td>\n",
       "    </tr>\n",
       "    <tr>\n",
       "      <th>140</th>\n",
       "      <td>Río Medellín - Puente Fundadores</td>\n",
       "      <td>Copacabana</td>\n",
       "      <td>737.44</td>\n",
       "      <td>32.61</td>\n",
       "    </tr>\n",
       "  </tbody>\n",
       "</table>\n",
       "</div>"
      ],
      "text/plain": [
       "                               Cuenca   Municipio    Area Pendiente media\n",
       "106         Río Medellín - Tres Aguas      Caldas   96.48           48.65\n",
       "179      Río Medellín - La Inmaculada      Caldas  123.83           40.29\n",
       "91      Río Medellín - Metro Sabaneta    Sabaneta  142.86           39.44\n",
       "94          Río Medellín - Aguacatala    Medellín   296.8           37.07\n",
       "93        Río Medellín - Puente La 33    Medellín  356.57           35.61\n",
       "99      Río Medellín - Aula Ambiental    Medellín  391.95            34.6\n",
       "140  Río Medellín - Puente Fundadores  Copacabana  737.44           32.61"
      ]
     },
     "execution_count": 15,
     "metadata": {},
     "output_type": "execute_result"
    }
   ],
   "source": [
    "import numpy as np\n",
    "\n",
    "nivel = [106,179,91,94,93,99,140]\n",
    "cuenca = ['Río Medellín - Tres Aguas','Río Medellín - La Inmaculada','Río Medellín - Metro Sabaneta',\n",
    "          'Río Medellín - Aguacatala','Río Medellín - Puente La 33','Río Medellín - Aula Ambiental',\n",
    "          'Río Medellín - Puente Fundadores']\n",
    "municipios = ['Caldas','Caldas','Sabaneta','Medellín','Medellín','Medellín','Copacabana']\n",
    "areas = [96.48,123.83,142.86,296.80,356.57,391.95,737.44]\n",
    "pendiente_media = [48.65,40.29,39.44,37.07,35.61,34.60,32.61]\n",
    "\n",
    "import pandas as pd\n",
    "df = pd.DataFrame(index=nivel,columns = ['Cuenca','Municipio','Area','Pendiente media'])\n",
    "\n",
    "df.loc[nivel,'Area'] = areas\n",
    "df.loc[nivel,'Cuenca'] = cuenca\n",
    "df.loc[nivel,'Municipio'] = municipios\n",
    "df.loc[nivel,'Pendiente media'] = pendiente_media\n",
    "\n",
    "df.sort_values('Area',ascending=True)"
   ]
  },
  {
   "cell_type": "markdown",
   "metadata": {},
   "source": [
    "La idea es lograr la mayor cobertura de cauces posibles, en el momento se tienen algunos afluentes con dos estaciones de nivel, se requiere aumentar la historia de eventos para que sea representativo.\n",
    "\n",
    "En el siguiente mapa se muestra la cobertura actual de las estaciones consideradas y su distribución a lo largo del Río Medellín.\n",
    "\n",
    "![title](mapa_transito.png)"
   ]
  },
  {
   "cell_type": "markdown",
   "metadata": {},
   "source": [
    "## 5. Modelo operacional"
   ]
  },
  {
   "cell_type": "markdown",
   "metadata": {},
   "source": [
    "El Modelo de Transito se ejecuta operacionalmente cada $2$ minutos para garantizar entrada de registros actualizados de nivel. El resultado para pronostico de nivel es presentado en graficas y relacionado con los niveles de alerta medidos en campo.\n",
    "\n",
    "Los niveles de alerta son referencias tomadas en campo para categorizar el riesgo ante el aumento de niveles en el cauce. Con los niveles de alerta se identifican estructuras que se ven comprometidas, viviendas, vias, entregas de alcantarillado, etc.\n",
    "Las categorias de alerta son: nivel de atención, nivel alerte moderado, compromiso de estructuras y compromiso de vidas humanas.\n",
    "\n",
    "Este es un ejemplo para la estación Aula Ambiental en donde se observa la evolución del nivel registrado por el sensor respecto al nivel y tiempo pronosticado con el Modelo de Transito. Las regiones sombreadas representan incertidumbre para los percentiles 10,25,75 y 90, el punto negro indica el percentil 50. La incertidumbre se presenta tanto para el nivel máximo como para el tiempo de ocurrencia.\n",
    "\n",
    "![title](animacion.gif)"
   ]
  },
  {
   "cell_type": "code",
   "execution_count": 14,
   "metadata": {},
   "outputs": [
    {
     "data": {
      "text/html": [
       "<script>\n",
       "code_show=true;\n",
       "function code_toggle() {\n",
       "if (code_show){\n",
       "$('div.input').hide();\n",
       "} else {\n",
       "$('div.input').show();\n",
       "}\n",
       "code_show = !code_show\n",
       "}\n",
       "$( document ).ready(code_toggle);\n",
       "</script>\n",
       "<form action=\"javascript:code_toggle()\"><input type=\"submit\" value=\"Click here to toggle on/off the raw code.\"></form>"
      ],
      "text/plain": [
       "<IPython.core.display.HTML object>"
      ]
     },
     "execution_count": 14,
     "metadata": {},
     "output_type": "execute_result"
    }
   ],
   "source": [
    "from IPython.display import HTML\n",
    "\n",
    "HTML('''<script>\n",
    "code_show=true;\n",
    "function code_toggle() {\n",
    "if (code_show){\n",
    "$('div.input').hide();\n",
    "} else {\n",
    "$('div.input').show();\n",
    "}\n",
    "code_show = !code_show\n",
    "}\n",
    "$( document ).ready(code_toggle);\n",
    "</script>\n",
    "<form action=\"javascript:code_toggle()\"><input type=\"submit\" value=\"Click here to toggle on/off the raw code.\"></form>''')"
   ]
  },
  {
   "cell_type": "markdown",
   "metadata": {
    "collapsed": true
   },
   "source": [
    "### 5.1 Actualización de eventos"
   ]
  },
  {
   "cell_type": "markdown",
   "metadata": {
    "collapsed": true
   },
   "source": [
    "El Modelo de Transito operacional se ejecuta tomando como base las reglas de pronostico generadas con los eventos historicos. Dichas reglas deben ser actualizadas con los eventos nuevos para aumentar la historia y por consiguiente mejorar la representativa estadistica.\n",
    "\n",
    "Para actualizar de manera automatica los eventos del Modelo de Transito se utiliza el script $actualizar2$."
   ]
  },
  {
   "cell_type": "code",
   "execution_count": null,
   "metadata": {
    "collapsed": true
   },
   "outputs": [],
   "source": []
  }
 ],
 "metadata": {
  "kernelspec": {
   "display_name": "Python 2",
   "language": "python",
   "name": "python2"
  },
  "language_info": {
   "codemirror_mode": {
    "name": "ipython",
    "version": 2
   },
   "file_extension": ".py",
   "mimetype": "text/x-python",
   "name": "python",
   "nbconvert_exporter": "python",
   "pygments_lexer": "ipython2",
   "version": "2.7.6"
  }
 },
 "nbformat": 4,
 "nbformat_minor": 2
}
